{
 "cells": [
  {
   "cell_type": "code",
   "execution_count": null,
   "id": "f919561d",
   "metadata": {},
   "outputs": [],
   "source": [
    "import PyPDF2\n",
    "import requests\n",
    "from urllib.request import Request, urlopen\n",
    "import io\n",
    "import pandas as pd\n",
    "import re\n",
    "import numpy as np"
   ]
  },
  {
   "cell_type": "markdown",
   "id": "13c643d0",
   "metadata": {},
   "source": [
    "Colleges: <br>\n",
    "AG: Agriculture and Life Sciences<br>\n",
    "AR: Architecture<br>\n",
    "GB: Bush School of Government and Public Service<br>\n",
    "BA: Business<br>\n",
    "DN: Dentistry<br>\n",
    "ED: Education<br>\n",
    "EN: Engineering<br>\n",
    "GE: Geosciences<br>\n",
    "LA: Liberal Arts<br>\n",
    "MS: Military Science<br>\n",
    "NU: Nursing<br>\n",
    "PH: Public Health<br>\n",
    "SC: Science<br>\n",
    "VM: Vet Med<br>\n",
    "Terms:<br>\n",
    "1: Spring<br>\n",
    "2: Summer<br>\n",
    "3: Fall<br>\n",
    "<br>\n",
    "Data available from Fall 2017 - Spring 2022 as of Sept 9, 2022"
   ]
  },
  {
   "cell_type": "code",
   "execution_count": null,
   "id": "3c40cb91",
   "metadata": {},
   "outputs": [],
   "source": [
    "colleges = ['AG', 'AR', 'GB', 'BA', 'DN','ED','EN','GE', 'LA',\n",
    "            'MS','NU','PH','SC','VM']\n",
    "terms = ['1','2','3'] \n",
    "years = ['2018','2019','2020','2021']\n",
    "\n",
    "urls = []\n",
    "#Only Fall available in 2017 \n",
    "for college in colleges:\n",
    "    urls.append('https://web-as.tamu.edu/GradeReports/PDFReports/20173/grd20173' + college + '.pdf')\n",
    "\n",
    "#Get most of course data\n",
    "for college in colleges:\n",
    "    for year in years:\n",
    "        for term in terms:\n",
    "            urls.append('https://web-as.tamu.edu/GradeReports/PDFReports/'+ year + term + '/grd' + year + term + college + '.pdf')\n",
    "\n",
    "#Only Spring available in 2022           \n",
    "for college in colleges:\n",
    "    if college == 'DN':\n",
    "        continue\n",
    "    urls.append('https://web-as.tamu.edu/GradeReports/PDFReports/20221/grd20221' + college + '.pdf')\n"
   ]
  },
  {
   "cell_type": "code",
   "execution_count": null,
   "id": "f8629060",
   "metadata": {},
   "outputs": [],
   "source": [
    "rows = []\n",
    "for URL in urls:\n",
    "    print(URL)\n",
    "    #Find file from URL\n",
    "    file = urlopen(Request(URL)).read()\n",
    "    mem_file = io.BytesIO(file)\n",
    "    fileReader = PyPDF2.PdfFileReader(mem_file)\n",
    "    \n",
    "    #Find Course Name to parse the PDF\n",
    "    course_list = set()\n",
    "    page_count = fileReader.numPages\n",
    "    for page_num in range(page_count):\n",
    "        current_page = fileReader.getPage(page_num).extractText()\n",
    "        courses = re.findall(\"[A-Z][A-Z][A-Z][A-Z]-[0-9]\", current_page) \n",
    "        courses = set(courses)\n",
    "        courses = list(courses)\n",
    "        for elem in courses:\n",
    "            course_list.add(elem)\n",
    "            \n",
    "    #Parse through PDF and create rows for data frame\n",
    "    for page_num in range(page_count):\n",
    "        current_page = fileReader.getPage(page_num).extractText().split()\n",
    "        for num in range(len(current_page)):\n",
    "            current_row = []\n",
    "            \n",
    "            #If the first 6 characters of the row is a valid course, create a row of data\n",
    "            if current_page[num][:6] in course_list:\n",
    "                instructor_name = ''\n",
    "                try:\n",
    "                    instructor_name = current_page[num+19] + ' ' + current_page[num+20]\n",
    "                except:\n",
    "                    instructor_name = current_page[num+19]\n",
    "                current_row = current_page[num:num+19]\n",
    "                current_row.append(instructor_name)\n",
    "                \n",
    "                #Add Year, Term, and College to record\n",
    "                current_row.append(URL[48:52])\n",
    "                current_row.append(URL[52])\n",
    "                current_row.append(URL[62:64])\n",
    "                #Add record to nested list\n",
    "                rows.append(current_row)       "
   ]
  },
  {
   "cell_type": "code",
   "execution_count": null,
   "id": "09a6aeb9",
   "metadata": {},
   "outputs": [],
   "source": [
    "col_names = ['Course_Info', 'A', 'A percentage', 'B', 'B percentage',  'C', 'C percentage',\n",
    "             'D', 'D percentage', 'F', 'F percentage', 'Total Completed', 'GPA',\n",
    "             'I','S','U','Q','X', 'Total Registered', 'Instructor', 'Year','Term','College']\n",
    "df = pd.DataFrame(rows, columns = col_names)"
   ]
  },
  {
   "cell_type": "code",
   "execution_count": null,
   "id": "d39a6100",
   "metadata": {
    "scrolled": true
   },
   "outputs": [],
   "source": [
    "df.head()"
   ]
  },
  {
   "cell_type": "code",
   "execution_count": null,
   "id": "ff27cb37",
   "metadata": {},
   "outputs": [],
   "source": [
    "#Divide up Course Info for more convenient analysis in R\n",
    "df['Course'] =  df['Course_Info'].str[:8]\n",
    "df['Course_Num'] =  df['Course_Info'].str[5:8]\n",
    "df['Dept'] = df['Course_Info'].str[:4]\n",
    "df['Section'] = df['Course_Info'].str[9:12]\n",
    "df['TermYear'] = df['Year'] + ' ' + df['Term']"
   ]
  },
  {
   "cell_type": "code",
   "execution_count": null,
   "id": "3ea10166",
   "metadata": {},
   "outputs": [],
   "source": [
    "conditions = [\n",
    "    (df['Term'] == '1'),\n",
    "    (df['Term'] == '2'),\n",
    "    (df['Term'] == '3')    \n",
    "]\n",
    "choices = ['Spring', 'Summer', 'Fall']\n",
    "df['Semester'] = np.select(conditions, choices)"
   ]
  },
  {
   "cell_type": "code",
   "execution_count": null,
   "id": "4da6b2eb",
   "metadata": {},
   "outputs": [],
   "source": [
    "df.to_csv('tamu_grade_reports.csv', index = False)"
   ]
  }
 ],
 "metadata": {
  "kernelspec": {
   "display_name": "Python 3 (ipykernel)",
   "language": "python",
   "name": "python3"
  },
  "language_info": {
   "codemirror_mode": {
    "name": "ipython",
    "version": 3
   },
   "file_extension": ".py",
   "mimetype": "text/x-python",
   "name": "python",
   "nbconvert_exporter": "python",
   "pygments_lexer": "ipython3",
   "version": "3.9.12"
  }
 },
 "nbformat": 4,
 "nbformat_minor": 5
}
