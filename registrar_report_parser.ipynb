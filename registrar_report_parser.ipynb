{
 "cells": [
  {
   "cell_type": "code",
   "execution_count": null,
   "id": "f919561d",
   "metadata": {},
   "outputs": [],
   "source": [
    "import PyPDF2\n",
    "import requests\n",
    "from urllib.request import Request, urlopen\n",
    "import io\n",
    "import pandas as pd\n",
    "import re\n",
    "import numpy as np"
   ]
  },
  {
   "cell_type": "markdown",
   "id": "13c643d0",
   "metadata": {},
   "source": [
    "Colleges: <br>\n",
    "AG: Agriculture and Life Sciences<br>\n",
    "AR: Architecture<br>\n",
    "GB: Bush School of Government and Public Service<br>\n",
    "BA: Business<br>\n",
    "DN: Dentistry<br>\n",
    "ED: Education<br>\n",
    "EN: Engineering<br>\n",
    "GE: Geosciences<br>\n",
    "LA: Liberal Arts<br>\n",
    "MS: Military Science<br>\n",
    "NU: Nursing<br>\n",
    "PH: Public Health<br>\n",
    "SC: Science<br>\n",
    "VM: Vet Med<br>\n",
    "Terms:<br>\n",
    "1: Spring<br>\n",
    "2: Summer<br>\n",
    "3: Fall<br>\n",
    "<br>\n",
    "Data available from Fall 2017 - Spring 2022 as of Sept 9, 2022"
   ]
  },
  {
   "cell_type": "code",
   "execution_count": null,
   "id": "3c40cb91",
   "metadata": {},
   "outputs": [],
   "source": [
    "colleges = ['AG', 'AR', 'GB', 'BA', 'DN','ED','EN','GE', 'LA',\n",
    "            'MS','NU','PH','SC','VM']\n",
    "terms = ['1','2','3'] \n",
    "years = ['2018','2019','2020','2021']\n",
    "\n",
    "urls = []\n",
    "#Only Fall available in 2017 \n",
    "for college in colleges:\n",
    "    urls.append('https://web-as.tamu.edu/GradeReports/PDFReports/20173/grd20173' + college + '.pdf')\n",
    "\n",
    "#Get most of course data\n",
    "for college in colleges:\n",
    "    for year in years:\n",
    "        for term in terms:\n",
    "            urls.append('https://web-as.tamu.edu/GradeReports/PDFReports/'+ year + term + '/grd' + year + term + college + '.pdf')\n",
    "\n",
    "#Only Spring available in 2022           \n",
    "for college in colleges:\n",
    "    if college == 'DN':\n",
    "        continue\n",
    "    urls.append('https://web-as.tamu.edu/GradeReports/PDFReports/20221/grd20221' + college + '.pdf')\n"
   ]
  },
  {
   "cell_type": "code",
   "execution_count": null,
   "id": "f8629060",
   "metadata": {},
   "outputs": [],
   "source": [
    "rows = []\n",
    "for URL in urls:\n",
    "    print(URL)\n",
    "    #Find file from URL\n",
    "    file = urlopen(Request(URL)).read()\n",
    "    mem_file = io.BytesIO(file)\n",
    "    fileReader = PyPDF2.PdfFileReader(mem_file)\n",
    "    \n",
    "    #Find Course Name to parse the PDF\n",
    "    course_list = set()\n",
    "    page_count = fileReader.numPages\n",
    "    for page_num in range(page_count):\n",
    "        current_page = fileReader.getPage(page_num).extractText()\n",
    "        courses = re.findall(\"[A-Z][A-Z][A-Z][A-Z]-[0-9]\", current_page) \n",
    "        courses = set(courses)\n",
    "        courses = list(courses)\n",
    "        for elem in courses:\n",
    "            course_list.add(elem)\n",
    "            \n",
    "    #Parse through PDF and create rows for data frame\n",
    "    for page_num in range(page_count):\n",
    "        current_page = fileReader.getPage(page_num).extractText().split()\n",
    "        for num in range(len(current_page)):\n",
    "            current_row = []\n",
    "            \n",
    "            #If the first 6 characters of the row is a valid course, create a row of data\n",
    "            if current_page[num][:6] in course_list:\n",
    "                instructor_name = ''\n",
    "                try:\n",
    "                    instructor_name = current_page[num+19] + ' ' + current_page[num+20]\n",
    "                except:\n",
    "                    instructor_name = current_page[num+19]\n",
    "                current_row = current_page[num:num+19]\n",
    "                current_row.append(instructor_name)\n",
    "                \n",
    "                #Add Year, Term, and College to record\n",
    "                current_row.append(URL[48:52])\n",
    "                current_row.append(URL[52])\n",
    "                current_row.append(URL[62:64])\n",
    "                #Add record to nested list\n",
    "                rows.append(current_row)       "
   ]
  },
  {
   "cell_type": "code",
   "execution_count": null,
   "id": "09a6aeb9",
   "metadata": {},
   "outputs": [],
   "source": [
    "col_names = ['Course_Info', 'A', 'A percentage', 'B', 'B percentage',  'C', 'C percentage',\n",
    "             'D', 'D percentage', 'F', 'F percentage', 'Total Completed', 'GPA',\n",
    "             'I','S','U','Q','X', 'Total Registered', 'Instructor', 'Year','Term','College']\n",
    "df = pd.DataFrame(rows, columns = col_names)"
   ]
  },
  {
   "cell_type": "code",
   "execution_count": null,
   "id": "d39a6100",
   "metadata": {
    "scrolled": true
   },
   "outputs": [],
   "source": [
    "df.head()"
   ]
  },
  {
   "cell_type": "code",
   "execution_count": null,
   "id": "ff27cb37",
   "metadata": {},
   "outputs": [],
   "source": [
    "#Divide up Course Info for more convenient analysis in R\n",
    "df['Course'] =  df['Course_Info'].str[:8]\n",
    "df['Course_Num'] =  df['Course_Info'].str[5:8]\n",
    "df['Dept'] = df['Course_Info'].str[:4]\n",
    "df['Section'] = df['Course_Info'].str[9:12]\n",
    "df['TermYear'] = df['Year'] + ' ' + df['Term']"
   ]
  },
  {
   "cell_type": "code",
   "execution_count": null,
   "id": "3ea10166",
   "metadata": {},
   "outputs": [],
   "source": [
    "conditions = [\n",
    "    (df['Term'] == '1'),\n",
    "    (df['Term'] == '2'),\n",
    "    (df['Term'] == '3')    \n",
    "]\n",
    "choices = ['Spring', 'Summer', 'Fall']\n",
    "df['Semester'] = np.select(conditions, choices)"
   ]
  },
  {
   "cell_type": "code",
   "execution_count": null,
   "id": "4da6b2eb",
   "metadata": {},
   "outputs": [],
   "source": [
    "df.to_csv('tamu_grade_reports.csv', index = False)"
   ]
  },
  {
   "cell_type": "markdown",
   "id": "66e033e4",
   "metadata": {},
   "source": [
    "## Additional Data Collection for July 2024 Update"
   ]
  },
  {
   "cell_type": "code",
   "execution_count": null,
   "id": "865095f6",
   "metadata": {},
   "outputs": [],
   "source": [
    "colleges = ['AG', 'AR', 'GB', 'BA', 'DN','ED','EN','GE', 'LA',\n",
    "            'MS','NU','PH','SC','VM']\n",
    "urls = []\n",
    "# Collect Data for 2022 Summer Courses\n",
    "for college in colleges:\n",
    "    urls.append('https://web-as.tamu.edu/GradeReports/PDFReports/20222/grd20222' + college + '.pdf')"
   ]
  },
  {
   "cell_type": "markdown",
   "id": "ecf56972",
   "metadata": {},
   "source": [
    "Texas A&M Restructured Several Colleges prior to the Fall 2022 semester. As a result, the url structure slightly changed"
   ]
  },
  {
   "cell_type": "markdown",
   "id": "4aef436c",
   "metadata": {},
   "source": [
    "FALL 2022<br>\n",
    "Note: Professional schools are not included because they do not follow the standard University Letter Grade conventions<br><br>\n",
    "AE: Center for Academic Enhancement <br>\n",
    "AG: Agriculture<br>\n",
    "AC: Architecture (NEW)<br>\n",
    "AP: ASSOC PROVOST FOR UG STUDIES<br>\n",
    "AT: Arts & Sciences<br>\n",
    "GB: BUSH SCHOOL OF GOV & PUB SERV<br>\n",
    "BA: MAYS BUSINESS SCHOOL<br>\n",
    "DN: DENTISTRY-SCHOOL (OLD)<br>\n",
    "EH: EDUCATION & HUMAN DEV-SCHOOL<br>\n",
    "EN: Engineering<br>\n",
    "GV: TAMU AT GALVESTON<br>\n",
    "SL_PROF: SCHOOL OF LAW<br>\n",
    "MN: MEDICINE-SCHOOL (NEW)<br>\n",
    "MN_PROF: MEDICINE-SCHOOL (NEW)<br>\n",
    "MS: Military Science<br>\n",
    "NS: Nursing-School<br>\n",
    "PM_Prof: PHARMACY-SCHOOL (NEW)<br>\n",
    "PH: PUBLIC HEALTH<br>\n",
    "QT: QATAR CAMPUS<br>\n",
    "VF: PERF, VISUAL & FINE ARTS<br>\n",
    "VM: VETERINARY MED & BIO SC-SCHOOL<br>\n",
    "VT_PROF: VETERINARY MED & BIO SC-SCHOOL<br>"
   ]
  },
  {
   "cell_type": "code",
   "execution_count": null,
   "id": "6995190f",
   "metadata": {},
   "outputs": [],
   "source": [
    "colleges = ['AE', 'AG', 'AC', 'AP', 'AT', 'GB', 'BA', 'DN','EH','EN','GV',\n",
    "            'MN', 'MS', 'NS', 'PH','QT', 'VF', 'VM']\n",
    "# Collect Data for 2022 Fall Courses\n",
    "for college in colleges:\n",
    "    urls.append('https://web-as.tamu.edu/GradeReports/PDFReports/20223/grd20223' + college + '.pdf')"
   ]
  },
  {
   "cell_type": "markdown",
   "id": "5ef0d311",
   "metadata": {},
   "source": [
    "SPRING 2023 - SPRING 2024<br><br>\n",
    "AE: Center for Academic Enhancement<br>\n",
    "AG: Agriculture<br>\n",
    "AC: Architecture (NEW)<br>\n",
    "AP: ASSOC PROVOST FOR UG STUDIES<br>\n",
    "AT: Arts & Sciences<br>\n",
    "GB: BUSH SCHOOL OF GOV & PUB SERV<br>\n",
    "BA: MAYS BUSINESS SCHOOL<br>\n",
    "DT: DENTISTRY-SCHOOL (NEW)<br>\n",
    "DT_PROF: DENTISTRY-SCHOOL (NEW)<br>\n",
    "EH: EDUCATION & HUMAN DEV-SCHOOL<br>\n",
    "EN: Engineering<br>\n",
    "GV: TAMU AT GALVESTON<br>\n",
    "SL: SCHOOL OF LAW<br>\n",
    "SL_PROF: SCHOOL OF LAW<br>\n",
    "MN: MEDICINE-SCHOOL (NEW)<br>\n",
    "MN_PROF: MEDICINE-SCHOOL (NEW) <br>\n",
    "MS: Military Science<br>\n",
    "NS: Nursing-School<br>\n",
    "PM_Prof: PHARMACY-SCHOOL (NEW)<br>\n",
    "PH: PUBLIC HEALTH<br>\n",
    "QT: QATAR CAMPUS<br>\n",
    "VF: PERF, VISUAL & FINE ARTS<br>\n",
    "VT: VETERINARY MED & BIO SC-SCHOOL<br>\n",
    "VT_PROF: VETERINARY MED & BIO SC-SCHOOL<br>"
   ]
  },
  {
   "cell_type": "code",
   "execution_count": null,
   "id": "30aa072c",
   "metadata": {},
   "outputs": [],
   "source": [
    "colleges = ['AE', 'AG', 'AC', 'AP', 'AT', 'GB', 'BA', 'DT', 'EH','EN','GV',\n",
    "            'MN', 'MS', 'NS', 'PH','QT', 'VF', 'VT']\n",
    "terms = ['1','2','3']\n",
    "# Collect Data for all 2023 terms\n",
    "for college in colleges:\n",
    "    for term in terms:\n",
    "        urls.append('https://web-as.tamu.edu/GradeReports/PDFReports/2023' + term + '/grd2023' + term + college + '.pdf')\n",
    "        \n",
    "# Collect Data for 2024 Spring\n",
    "for college in colleges:\n",
    "    urls.append('https://web-as.tamu.edu/GradeReports/PDFReports/20241/grd20241' + college + '.pdf')"
   ]
  },
  {
   "cell_type": "code",
   "execution_count": null,
   "id": "f6bca6ed",
   "metadata": {},
   "outputs": [],
   "source": [
    "rows = []\n",
    "for URL in urls:\n",
    "    print(URL)\n",
    "    # Find file from URL\n",
    "    try:\n",
    "        file = urlopen(Request(URL)).read()\n",
    "    except HTTPError:  # If for some reason the urls aren't working, just skip to the next file\n",
    "        continue\n",
    "    mem_file = io.BytesIO(file)\n",
    "    fileReader = PyPDF2.PdfReader(mem_file)\n",
    "    \n",
    "    # Find Course Name to parse the PDF\n",
    "    course_list = set()\n",
    "    page_count = len(fileReader.pages)\n",
    "    for page_num in range(page_count):\n",
    "        current_page = fileReader.pages[page_num].extract_text()\n",
    "        courses = re.findall(\"[A-Z][A-Z][A-Z][A-Z]-[0-9]\", current_page) \n",
    "        courses = set(courses)\n",
    "        courses = list(courses)\n",
    "        for elem in courses:\n",
    "            course_list.add(elem)\n",
    "            \n",
    "    # Parse through PDF and create rows for data frame\n",
    "    for page_num in range(page_count):\n",
    "        current_page = fileReader.pages[page_num].extract_text().split()\n",
    "        for num in range(len(current_page)):\n",
    "            current_row = []\n",
    "            # If the first 6 characters of the row is a valid course, create a row of data\n",
    "            if current_page[num][:6] in course_list:\n",
    "                # For some reason, this version of PyPDF fails to properly split total registered students and the GPA for the course, so this is the ugly fix.\n",
    "                instructor_name = ''\n",
    "                try:\n",
    "                    instructor_name = current_page[num+18] + ' ' + current_page[num+19]\n",
    "                except:\n",
    "                    instructor_name = current_page[num+18]  # Instructor has a mononym \n",
    "                \n",
    "                current_row = current_page[num:num+18]\n",
    "                current_row.append(instructor_name)\n",
    "                \n",
    "                gpa = current_row[11][current_row[11].find('.')-1:]\n",
    "                total_registered = current_row[11][:current_row[11].find('.')-1]\n",
    "                current_row[11] = total_registered\n",
    "                current_row.insert(12, gpa)\n",
    "                \n",
    "                # Add Year, Term, and College to record\n",
    "                current_row.append(URL[48:52])\n",
    "                current_row.append(URL[52])\n",
    "                current_row.append(URL[62:64])\n",
    "                # Add record to nested list\n",
    "                rows.append(current_row)       "
   ]
  },
  {
   "cell_type": "code",
   "execution_count": null,
   "id": "d6361f35",
   "metadata": {},
   "outputs": [],
   "source": [
    "col_names = ['Course_Info', 'A', 'A percentage', 'B', 'B percentage',  'C', 'C percentage',\n",
    "             'D', 'D percentage', 'F', 'F percentage', 'Total Completed', 'GPA',\n",
    "             'I','S','U','Q','X', 'Total Registered', 'Instructor', 'Year','Term','College']\n",
    "df = pd.DataFrame(rows, columns = col_names)\n",
    "df.head()"
   ]
  },
  {
   "cell_type": "code",
   "execution_count": null,
   "id": "7f2bf537",
   "metadata": {},
   "outputs": [],
   "source": [
    "# Divide up Course Info for more convenient analysis in R\n",
    "df['Course'] =  df['Course_Info'].str[:8]\n",
    "df['Course_Num'] =  df['Course_Info'].str[5:8]\n",
    "df['Dept'] = df['Course_Info'].str[:4]\n",
    "df['Section'] = df['Course_Info'].str[9:12]\n",
    "df['TermYear'] = df['Year'] + ' ' + df['Term']"
   ]
  },
  {
   "cell_type": "code",
   "execution_count": null,
   "id": "6a39a665",
   "metadata": {},
   "outputs": [],
   "source": [
    "conditions = [\n",
    "    (df['Term'] == '1'),\n",
    "    (df['Term'] == '2'),\n",
    "    (df['Term'] == '3')    \n",
    "]\n",
    "choices = ['Spring', 'Summer', 'Fall']\n",
    "df['Semester'] = np.select(conditions, choices)"
   ]
  },
  {
   "cell_type": "code",
   "execution_count": null,
   "id": "cb885b26",
   "metadata": {},
   "outputs": [],
   "source": [
    "df.to_csv('tamu_grade_reports_2024.csv', index = False)"
   ]
  }
 ],
 "metadata": {
  "kernelspec": {
   "display_name": "Python 3 (ipykernel)",
   "language": "python",
   "name": "python3"
  },
  "language_info": {
   "codemirror_mode": {
    "name": "ipython",
    "version": 3
   },
   "file_extension": ".py",
   "mimetype": "text/x-python",
   "name": "python",
   "nbconvert_exporter": "python",
   "pygments_lexer": "ipython3",
   "version": "3.11.5"
  }
 },
 "nbformat": 4,
 "nbformat_minor": 5
}
